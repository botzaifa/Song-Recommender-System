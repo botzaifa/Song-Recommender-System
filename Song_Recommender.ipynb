{
 "cells": [
  {
   "cell_type": "code",
   "execution_count": 1,
   "id": "86106be1",
   "metadata": {},
   "outputs": [],
   "source": [
    "# !pip install spotipy\n",
    "# !pip install pandas\n",
    "# !pip install sklearn\n",
    "# !pip install numpy\n",
    "# !pip install IPython"
   ]
  },
  {
   "cell_type": "code",
   "execution_count": 2,
   "id": "2ef82760",
   "metadata": {},
   "outputs": [],
   "source": [
    "# Import necessary libraries\n",
    "import spotipy\n",
    "from spotipy.oauth2 import SpotifyOAuth\n",
    "from sklearn.metrics.pairwise import cosine_similarity\n",
    "import numpy as np\n",
    "import pandas as pd\n",
    "from IPython.display import display"
   ]
  },
  {
   "cell_type": "code",
   "execution_count": 3,
   "id": "1e9a0ab5",
   "metadata": {},
   "outputs": [],
   "source": [
    "# Spotify API credentials\n",
    "SPOTIPY_CLIENT_ID = '871648fbcb65493bb9a19c943024e3e6'\n",
    "SPOTIPY_CLIENT_SECRET = '8f1f47ca317a43468209a9a7be22b20a'\n",
    "SPOTIPY_REDIRECT_URI = 'http://localhost:8080/callback'"
   ]
  },
  {
   "cell_type": "code",
   "execution_count": 4,
   "id": "2dce7788",
   "metadata": {},
   "outputs": [],
   "source": [
    "# Authenticate and create a Spotify client\n",
    "sp = spotipy.Spotify(auth_manager=SpotifyOAuth(client_id=SPOTIPY_CLIENT_ID,\n",
    "                                               client_secret=SPOTIPY_CLIENT_SECRET,\n",
    "                                               redirect_uri=SPOTIPY_REDIRECT_URI,\n",
    "                                               scope='user-top-read user-library-read'))"
   ]
  },
  {
   "cell_type": "markdown",
   "id": "e047c501",
   "metadata": {},
   "source": [
    "# Method: 1 (Very High Similarity score)"
   ]
  },
  {
   "cell_type": "markdown",
   "id": "7fcf088a",
   "metadata": {},
   "source": [
    "## Advantages and Disadvantages of using this method:"
   ]
  },
  {
   "cell_type": "markdown",
   "id": "56ab616f",
   "metadata": {},
   "source": [
    "**`Advantage`:** \n",
    "- <p> It has a higer similarity score, so the songs are very likely to be of your same taste as of your regular favourite ones.</p>\n",
    "\n",
    "**`Distadvantage`:** \n",
    "- It may recommend you the exact same song (it's remix, etc.)\n",
    "- You might already have a knowledge to these recommended songs."
   ]
  },
  {
   "cell_type": "code",
   "execution_count": 5,
   "id": "e5d13821",
   "metadata": {},
   "outputs": [],
   "source": [
    "def fetch_top_tracks(sp, limit=10):\n",
    "    top_tracks = sp.current_user_top_tracks(limit=limit, time_range='medium_term')\n",
    "    track_data = []\n",
    "    for track in top_tracks['items']:\n",
    "        track_data.append({\n",
    "            'track_id': track['id'],\n",
    "            'track_name': track['name'],\n",
    "            'artist': track['artists'][0]['name'],\n",
    "            'popularity': track['popularity']\n",
    "        })\n",
    "    return pd.DataFrame(track_data)"
   ]
  },
  {
   "cell_type": "code",
   "execution_count": 6,
   "id": "4ca4dc19",
   "metadata": {},
   "outputs": [],
   "source": [
    "def fetch_audio_features(sp, track_ids):\n",
    "    # Ensure track_ids is a list of valid Spotify track IDs\n",
    "    if not track_ids or not isinstance(track_ids, list):\n",
    "        raise ValueError(\"track_ids must be a non-empty list of valid track IDs.\")\n",
    "    \n",
    "    # Spotify API accepts up to 50 IDs at a time\n",
    "    features = []\n",
    "    for i in range(0, len(track_ids), 50):\n",
    "        chunk = track_ids[i:i+50]\n",
    "        try:\n",
    "            response = sp.audio_features(chunk)\n",
    "            features.extend(response)\n",
    "        except Exception as e:\n",
    "            print(f\"Error fetching features for chunk {chunk}: {e}\")\n",
    "    \n",
    "    return pd.DataFrame(features).dropna()"
   ]
  },
  {
   "cell_type": "code",
   "execution_count": 7,
   "id": "ab207dbd",
   "metadata": {},
   "outputs": [],
   "source": [
    "def recommend_similar_songs(top_tracks_data, num_recommendations=5):\n",
    "    # Get audio features of top tracks\n",
    "    top_features = fetch_audio_features(sp, top_tracks_data['track_id'].tolist())\n",
    "    \n",
    "    # Compute similarity matrix for top tracks with themselves\n",
    "    similarity_matrix = cosine_similarity(top_features[['danceability', 'energy', 'key', 'loudness', 'mode', 'speechiness', 'acousticness', 'instrumentalness', 'liveness', 'valence', 'tempo']], \n",
    "                                          top_features[['danceability', 'energy', 'key', 'loudness', 'mode', 'speechiness', 'acousticness', 'instrumentalness', 'liveness', 'valence', 'tempo']])\n",
    "    \n",
    "    # Aggregate similarity scores (average) to recommend similar songs\n",
    "    similarity_scores = similarity_matrix.mean(axis=0)\n",
    "    \n",
    "    # Add similarity scores to the top_tracks_data DataFrame\n",
    "    top_tracks_data['similarity_score'] = similarity_scores\n",
    "    \n",
    "    # Sort and get top recommendations\n",
    "    recommendations = top_tracks_data.sort_values(by='similarity_score', ascending=False)\n",
    "    return recommendations.head(num_recommendations)"
   ]
  },
  {
   "cell_type": "code",
   "execution_count": 8,
   "id": "5b52afcf",
   "metadata": {},
   "outputs": [],
   "source": [
    "# Fetch top 10 tracks\n",
    "top_tracks_data = fetch_top_tracks(sp, limit=10)"
   ]
  },
  {
   "cell_type": "code",
   "execution_count": 9,
   "id": "e1d3a052",
   "metadata": {},
   "outputs": [],
   "source": [
    "# Get recommendations based on similarity within top 10 tracks\n",
    "recommended_songs = recommend_similar_songs(top_tracks_data)"
   ]
  },
  {
   "cell_type": "code",
   "execution_count": 10,
   "id": "c2ee2f4b",
   "metadata": {},
   "outputs": [],
   "source": [
    "def display_top_tracks(top_tracks_data):\n",
    "    \"\"\"Display top tracks data as a table in a Jupyter Notebook.\"\"\"\n",
    "    # Ensure 'top_tracks_data' is a DataFrame\n",
    "    if isinstance(top_tracks_data, pd.DataFrame):\n",
    "        # Display the DataFrame as a table\n",
    "        display(top_tracks_data)\n",
    "    else:\n",
    "        print(\"The provided data is not a DataFrame.\")"
   ]
  },
  {
   "cell_type": "code",
   "execution_count": 11,
   "id": "8a8d882c",
   "metadata": {},
   "outputs": [
    {
     "data": {
      "text/html": [
       "<div>\n",
       "<style scoped>\n",
       "    .dataframe tbody tr th:only-of-type {\n",
       "        vertical-align: middle;\n",
       "    }\n",
       "\n",
       "    .dataframe tbody tr th {\n",
       "        vertical-align: top;\n",
       "    }\n",
       "\n",
       "    .dataframe thead th {\n",
       "        text-align: right;\n",
       "    }\n",
       "</style>\n",
       "<table border=\"1\" class=\"dataframe\">\n",
       "  <thead>\n",
       "    <tr style=\"text-align: right;\">\n",
       "      <th></th>\n",
       "      <th>track_name</th>\n",
       "      <th>artist</th>\n",
       "      <th>similarity_score</th>\n",
       "    </tr>\n",
       "  </thead>\n",
       "  <tbody>\n",
       "    <tr>\n",
       "      <th>5</th>\n",
       "      <td>Robbers</td>\n",
       "      <td>The 1975</td>\n",
       "      <td>0.999192</td>\n",
       "    </tr>\n",
       "    <tr>\n",
       "      <th>6</th>\n",
       "      <td>FEEL NOTHING</td>\n",
       "      <td>The Plot In You</td>\n",
       "      <td>0.999112</td>\n",
       "    </tr>\n",
       "    <tr>\n",
       "      <th>9</th>\n",
       "      <td>Love Me Like You Do - From \"Fifty Shades Of Grey\"</td>\n",
       "      <td>Ellie Goulding</td>\n",
       "      <td>0.999042</td>\n",
       "    </tr>\n",
       "    <tr>\n",
       "      <th>0</th>\n",
       "      <td>Somebody Else</td>\n",
       "      <td>The 1975</td>\n",
       "      <td>0.998821</td>\n",
       "    </tr>\n",
       "    <tr>\n",
       "      <th>3</th>\n",
       "      <td>Aaoge Tum Kabhi</td>\n",
       "      <td>The Local Train</td>\n",
       "      <td>0.998781</td>\n",
       "    </tr>\n",
       "  </tbody>\n",
       "</table>\n",
       "</div>"
      ],
      "text/plain": [
       "                                          track_name           artist  \\\n",
       "5                                            Robbers         The 1975   \n",
       "6                                       FEEL NOTHING  The Plot In You   \n",
       "9  Love Me Like You Do - From \"Fifty Shades Of Grey\"   Ellie Goulding   \n",
       "0                                      Somebody Else         The 1975   \n",
       "3                                    Aaoge Tum Kabhi  The Local Train   \n",
       "\n",
       "   similarity_score  \n",
       "5          0.999192  \n",
       "6          0.999112  \n",
       "9          0.999042  \n",
       "0          0.998821  \n",
       "3          0.998781  "
      ]
     },
     "metadata": {},
     "output_type": "display_data"
    }
   ],
   "source": [
    "# Display recommendations\n",
    "display_top_tracks(recommended_songs[['track_name', 'artist', 'similarity_score']])"
   ]
  },
  {
   "cell_type": "markdown",
   "id": "f7a2dd27",
   "metadata": {},
   "source": [
    "# Method: 2 (Comparatively Lower Similarity Score)"
   ]
  },
  {
   "cell_type": "markdown",
   "id": "49bc3fb8",
   "metadata": {},
   "source": [
    "## Advantages and Disadvantages of using this method:"
   ]
  },
  {
   "cell_type": "markdown",
   "id": "f9f30839",
   "metadata": {},
   "source": [
    "**`Advantage`:** \n",
    "- <p> It has  a lower similarity score, so the songs are similar but not to that extent it would recommend songs of more broader variety instead of the exact same songs (like it's remix, etc.). </p>\n",
    "\n",
    "**`Distadvantage`:** \n",
    "- The recommended songs might be different to your taste to some extent"
   ]
  },
  {
   "cell_type": "code",
   "execution_count": 12,
   "id": "8614f425",
   "metadata": {},
   "outputs": [],
   "source": [
    "def fetch_top_tracks(sp, limit=10):\n",
    "    top_tracks = sp.current_user_top_tracks(limit=limit, time_range='medium_term')\n",
    "    track_data = []\n",
    "    for track in top_tracks['items']:\n",
    "        track_data.append({\n",
    "            'track_id': track['id'],\n",
    "            'track_name': track['name'],\n",
    "            'artist': track['artists'][0]['name'],\n",
    "            'popularity': track['popularity']\n",
    "        })\n",
    "    return pd.DataFrame(track_data)"
   ]
  },
  {
   "cell_type": "code",
   "execution_count": 13,
   "id": "062a07c3",
   "metadata": {},
   "outputs": [],
   "source": [
    "def fetch_audio_features(sp, track_ids):\n",
    "    # Ensure track_ids is a list of valid Spotify track IDs\n",
    "    if not track_ids or not isinstance(track_ids, list):\n",
    "        raise ValueError(\"track_ids must be a non-empty list of valid track IDs.\")\n",
    "    \n",
    "    # Spotify API accepts up to 50 IDs at a time\n",
    "    features = []\n",
    "    for i in range(0, len(track_ids), 50):\n",
    "        chunk = track_ids[i:i+50]\n",
    "        try:\n",
    "            response = sp.audio_features(chunk)\n",
    "            features.extend(response)\n",
    "        except Exception as e:\n",
    "            print(f\"Error fetching features for chunk {chunk}: {e}\")\n",
    "    \n",
    "    return pd.DataFrame(features).dropna()"
   ]
  },
  {
   "cell_type": "code",
   "execution_count": 14,
   "id": "7ffc95db",
   "metadata": {},
   "outputs": [],
   "source": [
    "def fetch_all_songs_features(sp, limit=50):\n",
    "    # Fetch a larger sample of songs (e.g., user's saved tracks)\n",
    "    results = sp.current_user_saved_tracks(limit=limit)\n",
    "    track_ids = [item['track']['id'] for item in results['items']]\n",
    "    return fetch_audio_features(sp, track_ids)"
   ]
  },
  {
   "cell_type": "code",
   "execution_count": 15,
   "id": "a93cd731",
   "metadata": {},
   "outputs": [],
   "source": [
    "def recommend_similar_songs(top_tracks_data, num_recommendations=5):\n",
    "    # Get audio features of top tracks\n",
    "    top_features = fetch_audio_features(sp, top_tracks_data['track_id'].tolist())\n",
    "    \n",
    "    # Compute similarity matrix for top tracks with themselves\n",
    "    similarity_matrix = cosine_similarity(top_features[['danceability', 'energy', 'key', 'loudness', 'mode', 'speechiness', 'acousticness', 'instrumentalness', 'liveness', 'valence', 'tempo']], \n",
    "                                          top_features[['danceability', 'energy', 'key', 'loudness', 'mode', 'speechiness', 'acousticness', 'instrumentalness', 'liveness', 'valence', 'tempo']])\n",
    "    \n",
    "    # Aggregate similarity scores (average) to recommend similar songs\n",
    "    similarity_scores = similarity_matrix.mean(axis=0)\n",
    "    \n",
    "    # Add similarity scores to the top_tracks_data DataFrame\n",
    "    top_tracks_data['similarity_score'] = similarity_scores\n",
    "    \n",
    "    # Sort and get top recommendations\n",
    "    recommendations = top_tracks_data.sort_values(by='similarity_score', ascending=False)\n",
    "    return recommendations.head(num_recommendations)"
   ]
  },
  {
   "cell_type": "code",
   "execution_count": 16,
   "id": "5e63017e",
   "metadata": {
    "scrolled": true
   },
   "outputs": [],
   "source": [
    "def recommend_similar_songs(top_tracks_data, all_songs_features, num_recommendations=5):\n",
    "    top_features = fetch_audio_features(sp, top_tracks_data['track_id'].tolist())\n",
    "    \n",
    "    # Compute similarity matrix between top tracks and all songs\n",
    "    all_features = all_songs_features[['danceability', 'energy', 'key', 'loudness', 'mode', 'speechiness', 'acousticness', 'instrumentalness', 'liveness', 'valence', 'tempo']]\n",
    "    top_features_subset = top_features[['danceability', 'energy', 'key', 'loudness', 'mode', 'speechiness', 'acousticness', 'instrumentalness', 'liveness', 'valence', 'tempo']]\n",
    "    \n",
    "    similarity_matrix = cosine_similarity(top_features_subset, all_features)\n",
    "    \n",
    "    # Aggregate similarity scores (mean) for each song in the broader dataset\n",
    "    similarity_scores = similarity_matrix.mean(axis=0)\n",
    "    \n",
    "    # Add similarity scores to the all_songs_features DataFrame\n",
    "    all_songs_features['similarity_score'] = similarity_scores\n",
    "    \n",
    "    # Exclude top tracks from recommendations\n",
    "    recommendations = all_songs_features[~all_songs_features['id'].isin(top_tracks_data['track_id'])]\n",
    "    return recommendations.sort_values(by='similarity_score', ascending=False).head(num_recommendations)\n",
    "\n",
    "\n",
    "\n"
   ]
  },
  {
   "cell_type": "code",
   "execution_count": 17,
   "id": "c1015b2f",
   "metadata": {},
   "outputs": [],
   "source": [
    "# Fetch top 10 tracks\n",
    "top_tracks_data = fetch_top_tracks(sp, limit=10)"
   ]
  },
  {
   "cell_type": "code",
   "execution_count": 18,
   "id": "cd4dc841",
   "metadata": {},
   "outputs": [],
   "source": [
    "# Fetch features for a broader dataset of songs\n",
    "all_songs_features = fetch_all_songs_features(sp, limit=50)"
   ]
  },
  {
   "cell_type": "code",
   "execution_count": 19,
   "id": "e46d691e",
   "metadata": {},
   "outputs": [],
   "source": [
    "# Get recommendations based on similarity to top 10 tracks\n",
    "recommended_songs = recommend_similar_songs(top_tracks_data, all_songs_features)"
   ]
  },
  {
   "cell_type": "code",
   "execution_count": 20,
   "id": "b52fbc53",
   "metadata": {},
   "outputs": [],
   "source": [
    "def fetch_track_details(sp, track_ids):\n",
    "    tracks = sp.tracks(track_ids)\n",
    "    track_details = []\n",
    "    for track in tracks['tracks']:\n",
    "        track_details.append({\n",
    "            'id': track['id'],\n",
    "            'name': track['name'],\n",
    "            'artist': track['artists'][0]['name']\n",
    "        })\n",
    "    return pd.DataFrame(track_details)"
   ]
  },
  {
   "cell_type": "code",
   "execution_count": 21,
   "id": "c7df3179",
   "metadata": {},
   "outputs": [],
   "source": [
    "# Fetch track details for recommended songs\n",
    "recommended_songs_details = fetch_track_details(sp, recommended_songs['id'].tolist())"
   ]
  },
  {
   "cell_type": "code",
   "execution_count": 22,
   "id": "f5961bb3",
   "metadata": {},
   "outputs": [],
   "source": [
    "# Merge with similarity scores\n",
    "recommended_songs_with_details = pd.merge(recommended_songs_details, recommended_songs, on='id')"
   ]
  },
  {
   "cell_type": "code",
   "execution_count": 23,
   "id": "ca4b3687",
   "metadata": {},
   "outputs": [],
   "source": [
    "def display_top_tracks(top_tracks_data):\n",
    "    \"\"\"Display top tracks data as a table in a Jupyter Notebook.\"\"\"\n",
    "    # Ensure 'top_tracks_data' is a DataFrame\n",
    "    if isinstance(top_tracks_data, pd.DataFrame):\n",
    "        # Display the DataFrame as a table\n",
    "        display(top_tracks_data)\n",
    "    else:\n",
    "        print(\"The provided data is not a DataFrame.\")"
   ]
  },
  {
   "cell_type": "code",
   "execution_count": 24,
   "id": "2267815f",
   "metadata": {},
   "outputs": [
    {
     "data": {
      "text/html": [
       "<div>\n",
       "<style scoped>\n",
       "    .dataframe tbody tr th:only-of-type {\n",
       "        vertical-align: middle;\n",
       "    }\n",
       "\n",
       "    .dataframe tbody tr th {\n",
       "        vertical-align: top;\n",
       "    }\n",
       "\n",
       "    .dataframe thead th {\n",
       "        text-align: right;\n",
       "    }\n",
       "</style>\n",
       "<table border=\"1\" class=\"dataframe\">\n",
       "  <thead>\n",
       "    <tr style=\"text-align: right;\">\n",
       "      <th></th>\n",
       "      <th>name</th>\n",
       "      <th>artist</th>\n",
       "      <th>similarity_score</th>\n",
       "    </tr>\n",
       "  </thead>\n",
       "  <tbody>\n",
       "    <tr>\n",
       "      <th>0</th>\n",
       "      <td>Story of My Life</td>\n",
       "      <td>One Direction</td>\n",
       "      <td>0.999269</td>\n",
       "    </tr>\n",
       "    <tr>\n",
       "      <th>1</th>\n",
       "      <td>Payphone</td>\n",
       "      <td>Maroon 5</td>\n",
       "      <td>0.999228</td>\n",
       "    </tr>\n",
       "    <tr>\n",
       "      <th>2</th>\n",
       "      <td>SUPERPOWER</td>\n",
       "      <td>VALORANT</td>\n",
       "      <td>0.999211</td>\n",
       "    </tr>\n",
       "    <tr>\n",
       "      <th>3</th>\n",
       "      <td>Wild Ones (feat. Sia)</td>\n",
       "      <td>Flo Rida</td>\n",
       "      <td>0.999170</td>\n",
       "    </tr>\n",
       "    <tr>\n",
       "      <th>4</th>\n",
       "      <td>Cupid - Twin Ver.</td>\n",
       "      <td>FIFTY FIFTY</td>\n",
       "      <td>0.999164</td>\n",
       "    </tr>\n",
       "  </tbody>\n",
       "</table>\n",
       "</div>"
      ],
      "text/plain": [
       "                    name         artist  similarity_score\n",
       "0       Story of My Life  One Direction          0.999269\n",
       "1               Payphone       Maroon 5          0.999228\n",
       "2             SUPERPOWER       VALORANT          0.999211\n",
       "3  Wild Ones (feat. Sia)       Flo Rida          0.999170\n",
       "4      Cupid - Twin Ver.    FIFTY FIFTY          0.999164"
      ]
     },
     "metadata": {},
     "output_type": "display_data"
    }
   ],
   "source": [
    "# Display recommendations\n",
    "display_top_tracks(recommended_songs_with_details[['name', 'artist', 'similarity_score']])"
   ]
  },
  {
   "cell_type": "code",
   "execution_count": null,
   "id": "c744d238",
   "metadata": {},
   "outputs": [],
   "source": []
  }
 ],
 "metadata": {
  "kernelspec": {
   "display_name": "Python 3 (ipykernel)",
   "language": "python",
   "name": "python3"
  },
  "language_info": {
   "codemirror_mode": {
    "name": "ipython",
    "version": 3
   },
   "file_extension": ".py",
   "mimetype": "text/x-python",
   "name": "python",
   "nbconvert_exporter": "python",
   "pygments_lexer": "ipython3",
   "version": "3.9.13"
  }
 },
 "nbformat": 4,
 "nbformat_minor": 5
}
